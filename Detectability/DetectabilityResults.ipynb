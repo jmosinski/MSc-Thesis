{
 "cells": [
  {
   "cell_type": "code",
   "execution_count": 2,
   "id": "assured-somerset",
   "metadata": {},
   "outputs": [],
   "source": [
    "import sys\n",
    "sys.path.append('..')\n",
    "\n",
    "from deep import *"
   ]
  },
  {
   "cell_type": "code",
   "execution_count": 26,
   "id": "happy-beatles",
   "metadata": {},
   "outputs": [],
   "source": [
    "df = pd.read_csv('../Data/detectability_homo.csv')\n",
    "df2 = pd.read_csv('../Data/detectability_mus.csv')\n",
    "df['peptide_len'] = df['peptide'].apply(len)\n",
    "df2['peptide_len'] = df2['peptide'].apply(len)\n",
    "x2, y2 = df2[['peptide', 'detectability']].values.T\n",
    "\n",
    "df_train = df.iloc[:67000]\n",
    "df_val = df.iloc[67000:70000]\n",
    "df_test = df.iloc[70000:]\n",
    "x_train, y_train = df_train[['peptide', 'detectability']].values.T\n",
    "x_val, y_val = df_val[['peptide', 'detectability']].values.T\n",
    "x_test, y_test = df_test[['peptide', 'detectability']].values.T\n",
    "df.head()"
   ]
  },
  {
   "cell_type": "code",
   "execution_count": 22,
   "id": "elegant-ethnic",
   "metadata": {},
   "outputs": [
    {
     "data": {
      "text/html": [
       "<div>\n",
       "<style scoped>\n",
       "    .dataframe tbody tr th:only-of-type {\n",
       "        vertical-align: middle;\n",
       "    }\n",
       "\n",
       "    .dataframe tbody tr th {\n",
       "        vertical-align: top;\n",
       "    }\n",
       "\n",
       "    .dataframe thead th {\n",
       "        text-align: right;\n",
       "    }\n",
       "</style>\n",
       "<table border=\"1\" class=\"dataframe\">\n",
       "  <thead>\n",
       "    <tr style=\"text-align: right;\">\n",
       "      <th></th>\n",
       "      <th>peptide</th>\n",
       "      <th>peptide_len</th>\n",
       "      <th>detectability</th>\n",
       "    </tr>\n",
       "  </thead>\n",
       "  <tbody>\n",
       "    <tr>\n",
       "      <th>0</th>\n",
       "      <td>LLSEVEELNMSLTALREK</td>\n",
       "      <td>18</td>\n",
       "      <td>0</td>\n",
       "    </tr>\n",
       "    <tr>\n",
       "      <th>1</th>\n",
       "      <td>ERMDEEQKLYTD</td>\n",
       "      <td>12</td>\n",
       "      <td>0</td>\n",
       "    </tr>\n",
       "    <tr>\n",
       "      <th>2</th>\n",
       "      <td>YVPRAVLVDLEPGTMDSIR</td>\n",
       "      <td>19</td>\n",
       "      <td>0</td>\n",
       "    </tr>\n",
       "    <tr>\n",
       "      <th>3</th>\n",
       "      <td>TAHYGSLPQKSHGR</td>\n",
       "      <td>14</td>\n",
       "      <td>1</td>\n",
       "    </tr>\n",
       "    <tr>\n",
       "      <th>4</th>\n",
       "      <td>KFVADGIFK</td>\n",
       "      <td>9</td>\n",
       "      <td>1</td>\n",
       "    </tr>\n",
       "  </tbody>\n",
       "</table>\n",
       "</div>"
      ],
      "text/plain": [
       "               peptide  peptide_len  detectability\n",
       "0   LLSEVEELNMSLTALREK           18              0\n",
       "1         ERMDEEQKLYTD           12              0\n",
       "2  YVPRAVLVDLEPGTMDSIR           19              0\n",
       "3       TAHYGSLPQKSHGR           14              1\n",
       "4            KFVADGIFK            9              1"
      ]
     },
     "execution_count": 22,
     "metadata": {},
     "output_type": "execute_result"
    }
   ],
   "source": [
    "df[['peptide', 'peptide_len', 'detectability']].head()"
   ]
  },
  {
   "cell_type": "markdown",
   "id": "further-preview",
   "metadata": {},
   "source": [
    "## Distributions in the data"
   ]
  },
  {
   "cell_type": "code",
   "execution_count": 27,
   "id": "logical-transmission",
   "metadata": {},
   "outputs": [
    {
     "name": "stdout",
     "output_type": "stream",
     "text": [
      "Human max peptide len: 79\n",
      "Mouse max peptide len: 66\n"
     ]
    },
    {
     "data": {
      "image/png": "[encoded data removed]",
      "text/plain": [
       "<Figure size 720x288 with 2 Axes>"
      ]
     },
     "metadata": {},
     "output_type": "display_data"
    }
   ],
   "source": [
    "print(f\"Human max peptide len: {df['peptide_len'].max()}\")\n",
    "print(f\"Mouse max peptide len: {df2['peptide_len'].max()}\")\n",
    "\n",
    "f, (ax1, ax2) = plt.subplots(1, 2, figsize=(10, 4), sharey=True)\n",
    "\n",
    "sns.histplot(data=df, x='peptide_len', discrete=True, ax=ax1)\n",
    "sns.histplot(data=df2, x='peptide_len', discrete=True, ax=ax2)\n",
    "ax1.set_title('Homo Sapiens')\n",
    "ax2.set_title('Mus Musculus')\n",
    "ax1.set_ylabel('count')\n",
    "plt.savefig('Plots/detectability_dist.jpg', dpi=300, bbx_inches='tight')"
   ]
  },
  {
   "cell_type": "markdown",
   "id": "unnecessary-function",
   "metadata": {},
   "source": [
    "## Optimization"
   ]
  },
  {
   "cell_type": "code",
   "execution_count": 37,
   "id": "requested-listing",
   "metadata": {},
   "outputs": [
    {
     "data": {
      "text/html": [
       "<div>\n",
       "<style scoped>\n",
       "    .dataframe tbody tr th:only-of-type {\n",
       "        vertical-align: middle;\n",
       "    }\n",
       "\n",
       "    .dataframe tbody tr th {\n",
       "        vertical-align: top;\n",
       "    }\n",
       "\n",
       "    .dataframe thead th {\n",
       "        text-align: right;\n",
       "    }\n",
       "</style>\n",
       "<table border=\"1\" class=\"dataframe\">\n",
       "  <thead>\n",
       "    <tr style=\"text-align: right;\">\n",
       "      <th></th>\n",
       "      <th>loss</th>\n",
       "      <th>batch_size</th>\n",
       "      <th>dropout</th>\n",
       "      <th>lr</th>\n",
       "      <th>num_layers</th>\n",
       "      <th>output_dim</th>\n",
       "      <th>weight_decay</th>\n",
       "    </tr>\n",
       "  </thead>\n",
       "  <tbody>\n",
       "    <tr>\n",
       "      <th>6</th>\n",
       "      <td>0.448202</td>\n",
       "      <td>132</td>\n",
       "      <td>0.449854</td>\n",
       "      <td>0.000484</td>\n",
       "      <td>3</td>\n",
       "      <td>140</td>\n",
       "      <td>0.000029</td>\n",
       "    </tr>\n",
       "    <tr>\n",
       "      <th>24</th>\n",
       "      <td>0.457008</td>\n",
       "      <td>256</td>\n",
       "      <td>0.147057</td>\n",
       "      <td>0.000247</td>\n",
       "      <td>3</td>\n",
       "      <td>96</td>\n",
       "      <td>0.000441</td>\n",
       "    </tr>\n",
       "    <tr>\n",
       "      <th>17</th>\n",
       "      <td>0.459551</td>\n",
       "      <td>24</td>\n",
       "      <td>0.251883</td>\n",
       "      <td>0.002381</td>\n",
       "      <td>2</td>\n",
       "      <td>128</td>\n",
       "      <td>0.000333</td>\n",
       "    </tr>\n",
       "    <tr>\n",
       "      <th>0</th>\n",
       "      <td>0.460178</td>\n",
       "      <td>168</td>\n",
       "      <td>0.333673</td>\n",
       "      <td>0.001587</td>\n",
       "      <td>1</td>\n",
       "      <td>148</td>\n",
       "      <td>0.039167</td>\n",
       "    </tr>\n",
       "    <tr>\n",
       "      <th>1</th>\n",
       "      <td>0.460203</td>\n",
       "      <td>20</td>\n",
       "      <td>0.391744</td>\n",
       "      <td>0.000792</td>\n",
       "      <td>1</td>\n",
       "      <td>40</td>\n",
       "      <td>0.009203</td>\n",
       "    </tr>\n",
       "    <tr>\n",
       "      <th>13</th>\n",
       "      <td>0.461516</td>\n",
       "      <td>128</td>\n",
       "      <td>0.347351</td>\n",
       "      <td>0.010112</td>\n",
       "      <td>1</td>\n",
       "      <td>36</td>\n",
       "      <td>0.065736</td>\n",
       "    </tr>\n",
       "    <tr>\n",
       "      <th>2</th>\n",
       "      <td>0.461908</td>\n",
       "      <td>28</td>\n",
       "      <td>0.318337</td>\n",
       "      <td>0.000122</td>\n",
       "      <td>3</td>\n",
       "      <td>168</td>\n",
       "      <td>0.364163</td>\n",
       "    </tr>\n",
       "    <tr>\n",
       "      <th>11</th>\n",
       "      <td>0.463046</td>\n",
       "      <td>172</td>\n",
       "      <td>0.041594</td>\n",
       "      <td>0.016161</td>\n",
       "      <td>2</td>\n",
       "      <td>32</td>\n",
       "      <td>0.000081</td>\n",
       "    </tr>\n",
       "    <tr>\n",
       "      <th>22</th>\n",
       "      <td>0.467082</td>\n",
       "      <td>80</td>\n",
       "      <td>0.118796</td>\n",
       "      <td>0.000045</td>\n",
       "      <td>3</td>\n",
       "      <td>120</td>\n",
       "      <td>0.001277</td>\n",
       "    </tr>\n",
       "    <tr>\n",
       "      <th>21</th>\n",
       "      <td>0.469431</td>\n",
       "      <td>84</td>\n",
       "      <td>0.214823</td>\n",
       "      <td>0.000306</td>\n",
       "      <td>4</td>\n",
       "      <td>232</td>\n",
       "      <td>0.000976</td>\n",
       "    </tr>\n",
       "    <tr>\n",
       "      <th>12</th>\n",
       "      <td>0.469466</td>\n",
       "      <td>36</td>\n",
       "      <td>0.392304</td>\n",
       "      <td>0.004626</td>\n",
       "      <td>2</td>\n",
       "      <td>16</td>\n",
       "      <td>0.000168</td>\n",
       "    </tr>\n",
       "    <tr>\n",
       "      <th>5</th>\n",
       "      <td>0.469593</td>\n",
       "      <td>48</td>\n",
       "      <td>0.358379</td>\n",
       "      <td>0.000139</td>\n",
       "      <td>3</td>\n",
       "      <td>108</td>\n",
       "      <td>0.007250</td>\n",
       "    </tr>\n",
       "    <tr>\n",
       "      <th>7</th>\n",
       "      <td>0.477091</td>\n",
       "      <td>20</td>\n",
       "      <td>0.437996</td>\n",
       "      <td>0.000084</td>\n",
       "      <td>2</td>\n",
       "      <td>80</td>\n",
       "      <td>0.088771</td>\n",
       "    </tr>\n",
       "    <tr>\n",
       "      <th>19</th>\n",
       "      <td>0.478968</td>\n",
       "      <td>200</td>\n",
       "      <td>0.446984</td>\n",
       "      <td>0.002557</td>\n",
       "      <td>2</td>\n",
       "      <td>28</td>\n",
       "      <td>0.000014</td>\n",
       "    </tr>\n",
       "    <tr>\n",
       "      <th>8</th>\n",
       "      <td>0.479964</td>\n",
       "      <td>36</td>\n",
       "      <td>0.454165</td>\n",
       "      <td>0.008370</td>\n",
       "      <td>2</td>\n",
       "      <td>32</td>\n",
       "      <td>0.000023</td>\n",
       "    </tr>\n",
       "    <tr>\n",
       "      <th>18</th>\n",
       "      <td>0.483789</td>\n",
       "      <td>120</td>\n",
       "      <td>0.340275</td>\n",
       "      <td>0.000563</td>\n",
       "      <td>1</td>\n",
       "      <td>20</td>\n",
       "      <td>0.000319</td>\n",
       "    </tr>\n",
       "    <tr>\n",
       "      <th>16</th>\n",
       "      <td>0.487346</td>\n",
       "      <td>20</td>\n",
       "      <td>0.290104</td>\n",
       "      <td>0.009032</td>\n",
       "      <td>2</td>\n",
       "      <td>56</td>\n",
       "      <td>0.000187</td>\n",
       "    </tr>\n",
       "    <tr>\n",
       "      <th>4</th>\n",
       "      <td>0.495038</td>\n",
       "      <td>164</td>\n",
       "      <td>0.372779</td>\n",
       "      <td>0.000341</td>\n",
       "      <td>2</td>\n",
       "      <td>24</td>\n",
       "      <td>0.000089</td>\n",
       "    </tr>\n",
       "    <tr>\n",
       "      <th>23</th>\n",
       "      <td>0.502077</td>\n",
       "      <td>244</td>\n",
       "      <td>0.248771</td>\n",
       "      <td>0.001258</td>\n",
       "      <td>4</td>\n",
       "      <td>188</td>\n",
       "      <td>0.000055</td>\n",
       "    </tr>\n",
       "    <tr>\n",
       "      <th>3</th>\n",
       "      <td>0.504256</td>\n",
       "      <td>24</td>\n",
       "      <td>0.120871</td>\n",
       "      <td>0.019387</td>\n",
       "      <td>3</td>\n",
       "      <td>56</td>\n",
       "      <td>0.127109</td>\n",
       "    </tr>\n",
       "    <tr>\n",
       "      <th>9</th>\n",
       "      <td>0.519057</td>\n",
       "      <td>148</td>\n",
       "      <td>0.027054</td>\n",
       "      <td>0.003051</td>\n",
       "      <td>3</td>\n",
       "      <td>64</td>\n",
       "      <td>0.036344</td>\n",
       "    </tr>\n",
       "    <tr>\n",
       "      <th>20</th>\n",
       "      <td>0.561912</td>\n",
       "      <td>92</td>\n",
       "      <td>0.191002</td>\n",
       "      <td>0.051442</td>\n",
       "      <td>4</td>\n",
       "      <td>240</td>\n",
       "      <td>0.001050</td>\n",
       "    </tr>\n",
       "    <tr>\n",
       "      <th>10</th>\n",
       "      <td>0.639790</td>\n",
       "      <td>28</td>\n",
       "      <td>0.462986</td>\n",
       "      <td>0.000024</td>\n",
       "      <td>1</td>\n",
       "      <td>32</td>\n",
       "      <td>0.421285</td>\n",
       "    </tr>\n",
       "    <tr>\n",
       "      <th>15</th>\n",
       "      <td>0.673452</td>\n",
       "      <td>56</td>\n",
       "      <td>0.439894</td>\n",
       "      <td>0.000012</td>\n",
       "      <td>3</td>\n",
       "      <td>20</td>\n",
       "      <td>0.000022</td>\n",
       "    </tr>\n",
       "    <tr>\n",
       "      <th>14</th>\n",
       "      <td>0.694484</td>\n",
       "      <td>20</td>\n",
       "      <td>0.010541</td>\n",
       "      <td>0.088371</td>\n",
       "      <td>4</td>\n",
       "      <td>28</td>\n",
       "      <td>0.049942</td>\n",
       "    </tr>\n",
       "  </tbody>\n",
       "</table>\n",
       "</div>"
      ],
      "text/plain": [
       "        loss  batch_size   dropout        lr  num_layers  output_dim  \\\n",
       "6   0.448202         132  0.449854  0.000484           3         140   \n",
       "24  0.457008         256  0.147057  0.000247           3          96   \n",
       "17  0.459551          24  0.251883  0.002381           2         128   \n",
       "0   0.460178         168  0.333673  0.001587           1         148   \n",
       "1   0.460203          20  0.391744  0.000792           1          40   \n",
       "13  0.461516         128  0.347351  0.010112           1          36   \n",
       "2   0.461908          28  0.318337  0.000122           3         168   \n",
       "11  0.463046         172  0.041594  0.016161           2          32   \n",
       "22  0.467082          80  0.118796  0.000045           3         120   \n",
       "21  0.469431          84  0.214823  0.000306           4         232   \n",
       "12  0.469466          36  0.392304  0.004626           2          16   \n",
       "5   0.469593          48  0.358379  0.000139           3         108   \n",
       "7   0.477091          20  0.437996  0.000084           2          80   \n",
       "19  0.478968         200  0.446984  0.002557           2          28   \n",
       "8   0.479964          36  0.454165  0.008370           2          32   \n",
       "18  0.483789         120  0.340275  0.000563           1          20   \n",
       "16  0.487346          20  0.290104  0.009032           2          56   \n",
       "4   0.495038         164  0.372779  0.000341           2          24   \n",
       "23  0.502077         244  0.248771  0.001258           4         188   \n",
       "3   0.504256          24  0.120871  0.019387           3          56   \n",
       "9   0.519057         148  0.027054  0.003051           3          64   \n",
       "20  0.561912          92  0.191002  0.051442           4         240   \n",
       "10  0.639790          28  0.462986  0.000024           1          32   \n",
       "15  0.673452          56  0.439894  0.000012           3          20   \n",
       "14  0.694484          20  0.010541  0.088371           4          28   \n",
       "\n",
       "    weight_decay  \n",
       "6       0.000029  \n",
       "24      0.000441  \n",
       "17      0.000333  \n",
       "0       0.039167  \n",
       "1       0.009203  \n",
       "13      0.065736  \n",
       "2       0.364163  \n",
       "11      0.000081  \n",
       "22      0.001277  \n",
       "21      0.000976  \n",
       "12      0.000168  \n",
       "5       0.007250  \n",
       "7       0.088771  \n",
       "19      0.000014  \n",
       "8       0.000023  \n",
       "18      0.000319  \n",
       "16      0.000187  \n",
       "4       0.000089  \n",
       "23      0.000055  \n",
       "3       0.127109  \n",
       "9       0.036344  \n",
       "20      0.001050  \n",
       "10      0.421285  \n",
       "15      0.000022  \n",
       "14      0.049942  "
      ]
     },
     "execution_count": 37,
     "metadata": {},
     "output_type": "execute_result"
    }
   ],
   "source": [
    "model = 'gru'\n",
    "df_optim = pd.read_csv(f'Results/Optim/{model.lower()}.csv')\n",
    "df_optim.sort_values(by='loss')"
   ]
  },
  {
   "cell_type": "markdown",
   "id": "incorporated-coupon",
   "metadata": {},
   "source": [
    "## Training"
   ]
  },
  {
   "cell_type": "code",
   "execution_count": 38,
   "id": "unavailable-grace",
   "metadata": {},
   "outputs": [
    {
     "data": {
      "text/plain": [
       "(0.4292915518283844, 0.506023237546285)"
      ]
     },
     "execution_count": 38,
     "metadata": {},
     "output_type": "execute_result"
    },
    {
     "data": {
      "image/png": "[encoded data removed]",
      "text/plain": [
       "<Figure size 864x288 with 2 Axes>"
      ]
     },
     "metadata": {},
     "output_type": "display_data"
    }
   ],
   "source": [
    "df_training = pd.read_csv('Results/GRUHomo/training.csv')\n",
    "df_training = df_training.rename(columns={'train_loss': 'train loss', 'test_loss': 'val loss'})\n",
    "df_training = df_training.set_index('epoch')\n",
    "\n",
    "df_training2 = pd.read_csv('Results/GRUMus/training.csv')\n",
    "df_training2 = df_training2.rename(columns={'train_loss': 'train loss', 'test_loss': 'val loss'})\n",
    "df_training2 = df_training2.set_index('epoch')\n",
    "\n",
    "\n",
    "f, (ax1, ax2) = plt.subplots(1, 2, figsize=(12,4))\n",
    "df_training.plot(ax=ax1)\n",
    "ax1.set_title('Homo Sapiens')\n",
    "ax1.get_legend().remove()\n",
    "df_training2[['train loss', 'val loss']].plot(ax=ax2)\n",
    "ax2.set_title('Mus Musculus')\n",
    "# plt.savefig('Plots/detectability_gru_training.png', dpi=300, bbox_inches='tight')\n",
    "\n",
    "df_training['val loss'].min(), df_training2['val loss'].min()"
   ]
  },
  {
   "cell_type": "code",
   "execution_count": 39,
   "id": "announced-facility",
   "metadata": {},
   "outputs": [
    {
     "data": {
      "text/html": [
       "<div>\n",
       "<style scoped>\n",
       "    .dataframe tbody tr th:only-of-type {\n",
       "        vertical-align: middle;\n",
       "    }\n",
       "\n",
       "    .dataframe tbody tr th {\n",
       "        vertical-align: top;\n",
       "    }\n",
       "\n",
       "    .dataframe thead th {\n",
       "        text-align: right;\n",
       "    }\n",
       "</style>\n",
       "<table border=\"1\" class=\"dataframe\">\n",
       "  <thead>\n",
       "    <tr style=\"text-align: right;\">\n",
       "      <th></th>\n",
       "      <th>train loss</th>\n",
       "      <th>train_acc</th>\n",
       "      <th>val loss</th>\n",
       "      <th>test_acc</th>\n",
       "    </tr>\n",
       "    <tr>\n",
       "      <th>epoch</th>\n",
       "      <th></th>\n",
       "      <th></th>\n",
       "      <th></th>\n",
       "      <th></th>\n",
       "    </tr>\n",
       "  </thead>\n",
       "  <tbody>\n",
       "    <tr>\n",
       "      <th>48</th>\n",
       "      <td>0.433203</td>\n",
       "      <td>0.800381</td>\n",
       "      <td>0.446547</td>\n",
       "      <td>0.794167</td>\n",
       "    </tr>\n",
       "  </tbody>\n",
       "</table>\n",
       "</div>"
      ],
      "text/plain": [
       "       train loss  train_acc  val loss  test_acc\n",
       "epoch                                           \n",
       "48       0.433203   0.800381  0.446547  0.794167"
      ]
     },
     "execution_count": 39,
     "metadata": {},
     "output_type": "execute_result"
    },
    {
     "data": {
      "image/png": "[encoded data removed]",
      "text/plain": [
       "<Figure size 432x288 with 1 Axes>"
      ]
     },
     "metadata": {},
     "output_type": "display_data"
    }
   ],
   "source": [
    "df_training = pd.read_csv('Results/GRUBoth/training.csv')\n",
    "df_training = df_training.rename(columns={'train_loss': 'train loss', 'test_loss': 'val loss'})\n",
    "df_training = df_training.set_index('epoch')\n",
    "df_training[['train loss', 'val loss']].plot()\n",
    "# plt.savefig('Plots/detectability_gru_both_training.png', dpi=300, bbox_inches='tight')\n",
    "\n",
    "df_training[df_training['val loss']==df_training['val loss'].min()]"
   ]
  },
  {
   "cell_type": "markdown",
   "id": "laughing-christopher",
   "metadata": {},
   "source": [
    "## Metrics"
   ]
  },
  {
   "cell_type": "code",
   "execution_count": 15,
   "id": "collective-pledge",
   "metadata": {},
   "outputs": [],
   "source": [
    "def acc(tn, fp, fn, tp):\n",
    "    return (tp+tn) / (tp+tn+fp+fn)\n",
    "\n",
    "def specificity(tn, fp, fn, tp):\n",
    "    return tn / (tn+fp)\n",
    "\n",
    "def sensitivity(tn, fp, fn, tp):\n",
    "    return tp / (tp+fn)\n",
    "    \n",
    "def append_metrics(metrics):\n",
    "    metrics_fn = {\n",
    "        'SP': specificity,\n",
    "        'SN': sensitivity,\n",
    "    }    \n",
    "    for k, v in metrics_fn.items():\n",
    "        metrics['Train '+k] = v(*metrics['Train Confusion'])\n",
    "        metrics['Test '+k] = v(*metrics['Test Confusion'])\n",
    "    return metrics\n",
    "\n",
    "def get_metrics(tn, fp, fn, tp):\n",
    "    metrics = {}\n",
    "    metrics['ACC'] = acc(tn, fp, fn, tp)\n",
    "    metrics['SP'] = specificity(tn, fp, fn, tp)\n",
    "    metrics['SN'] = sensitivity(tn, fp, fn, tp)\n",
    "    return metrics\n",
    "# get_metrics(26358, 18642,  3810, 41190)"
   ]
  },
  {
   "cell_type": "markdown",
   "id": "super-release",
   "metadata": {},
   "source": [
    "### GRU"
   ]
  },
  {
   "cell_type": "code",
   "execution_count": 40,
   "id": "spectacular-cream",
   "metadata": {},
   "outputs": [
    {
     "data": {
      "text/plain": [
       "{'Train BCE': 0.4166679165571469,\n",
       " 'Test BCE': 0.43851049532457836,\n",
       " 'Train ACC': 0.8148955223880597,\n",
       " 'Test ACC': 0.80485,\n",
       " 'Train AUC': 0.8791943511730778,\n",
       " 'Test AUC': 0.8654233665170463,\n",
       " 'Train Confusion': array([24111,  9401,  3001, 30487], dtype=int64),\n",
       " 'Test Confusion': array([7076, 2903, 1000, 9021], dtype=int64),\n",
       " 'Train SP': 0.7194736213893531,\n",
       " 'Test SP': 0.709089087082874,\n",
       " 'Train SN': 0.9103858098423315,\n",
       " 'Test SN': 0.9002095599241593}"
      ]
     },
     "execution_count": 40,
     "metadata": {},
     "output_type": "execute_result"
    }
   ],
   "source": [
    "# Mus Musculus - transfer\n",
    "# {'ACC': 0.7431666666666666, 'SP': 0.5789111111111112, 'SN': 0.9074222222222222, 'AUC': 0.8084417479012347}\n",
    "# Confusion: 26051, 18949,  4166, 40834\n",
    "\n",
    "# Trained and tested on Homo Sapiens\n",
    "gru_metrics = pickle.load(open('Results/GRUHomo/metrics.pkl', 'rb'))\n",
    "gru_metrics = append_metrics(gru_metrics)\n",
    "gru_metrics"
   ]
  },
  {
   "cell_type": "code",
   "execution_count": 41,
   "id": "fifteen-romania",
   "metadata": {},
   "outputs": [
    {
     "data": {
      "text/plain": [
       "{'Train BCE': 0.47999079787413546,\n",
       " 'Test BCE': 0.5080620965022128,\n",
       " 'Train ACC': 0.7702388059701493,\n",
       " 'Test ACC': 0.7549,\n",
       " 'Train AUC': 0.8366353502049129,\n",
       " 'Test AUC': 0.8159099095585529,\n",
       " 'Train Confusion': array([21723, 11786,  3608, 29883], dtype=int64),\n",
       " 'Test Confusion': array([6374, 3666, 1236, 8724], dtype=int64),\n",
       " 'Train SP': 0.6482735981378137,\n",
       " 'Test SP': 0.6348605577689242,\n",
       " 'Train SN': 0.8922695649577499,\n",
       " 'Test SN': 0.8759036144578313}"
      ]
     },
     "execution_count": 41,
     "metadata": {},
     "output_type": "execute_result"
    }
   ],
   "source": [
    "# Trained and tested on Mus Musculus\n",
    "gru_metrics = pickle.load(open('Results/GRUMus/metrics.pkl', 'rb'))\n",
    "gru_metrics = append_metrics(gru_metrics)\n",
    "gru_metrics"
   ]
  },
  {
   "cell_type": "code",
   "execution_count": 45,
   "id": "likely-title",
   "metadata": {},
   "outputs": [
    {
     "data": {
      "text/plain": [
       "{'Train BCE': 0.4022297491623565,\n",
       " 'Test BCE': 0.41950992494011297,\n",
       " 'Train ACC': 0.8176641791044776,\n",
       " 'Test ACC': 0.81665,\n",
       " 'Train AUC': 0.8874421184811705,\n",
       " 'Test AUC': 0.8741045848012189,\n",
       " 'Train Confusion': array([46812, 20209,  4224, 62755], dtype=int64),\n",
       " 'Test Confusion': array([7279, 2700,  967, 9054], dtype=int64),\n",
       " 'Train SP': 0.6984676444696438,\n",
       " 'Test SP': 0.729431806794268,\n",
       " 'Train SN': 0.9369354573821645,\n",
       " 'Test SN': 0.9035026444466621}"
      ]
     },
     "execution_count": 45,
     "metadata": {},
     "output_type": "execute_result"
    }
   ],
   "source": [
    "# Trained on both datasets and tested on Homo Sapiens\n",
    "gru_metrics = pickle.load(open('Results/GRUBoth/metrics_homo.pkl', 'rb'))\n",
    "gru_metrics = append_metrics(gru_metrics)\n",
    "gru_metrics"
   ]
  },
  {
   "cell_type": "code",
   "execution_count": 46,
   "id": "hazardous-slide",
   "metadata": {},
   "outputs": [
    {
     "data": {
      "text/plain": [
       "{'Train BCE': 0.40222974912403325,\n",
       " 'Test BCE': 0.504980018245359,\n",
       " 'Train ACC': 0.8176641791044776,\n",
       " 'Test ACC': 0.75865,\n",
       " 'Train AUC': 0.8874421190380875,\n",
       " 'Test AUC': 0.8258264632234115,\n",
       " 'Train Confusion': array([46812, 20209,  4224, 62755], dtype=int64),\n",
       " 'Test Confusion': array([6108, 3932,  895, 9065], dtype=int64),\n",
       " 'Train SP': 0.6984676444696438,\n",
       " 'Test SP': 0.6083665338645419,\n",
       " 'Train SN': 0.9369354573821645,\n",
       " 'Test SN': 0.910140562248996}"
      ]
     },
     "execution_count": 46,
     "metadata": {},
     "output_type": "execute_result"
    }
   ],
   "source": [
    "# Trained on both datasets and tested on Mus Musculus\n",
    "gru_metrics = pickle.load(open('Results/GRUBoth/metrics_mus.pkl', 'rb'))\n",
    "gru_metrics = append_metrics(gru_metrics)\n",
    "gru_metrics"
   ]
  },
  {
   "cell_type": "markdown",
   "id": "driving-olympus",
   "metadata": {},
   "source": [
    "### Ensemble"
   ]
  },
  {
   "cell_type": "code",
   "execution_count": 47,
   "id": "supposed-therapist",
   "metadata": {},
   "outputs": [
    {
     "data": {
      "text/plain": [
       "{'Train BCE': 0.3607424130314462,\n",
       " 'Test BCE': 0.42352987803415165,\n",
       " 'Train ACC': 0.8430428571428571,\n",
       " 'Test ACC': 0.81365,\n",
       " 'Train AUC': 0.9097076715763943,\n",
       " 'Test AUC': 0.8737156030858096,\n",
       " 'Train Confusion': array([26185,  8836,  2151, 32828], dtype=int64),\n",
       " 'Test Confusion': array([7183, 2796,  931, 9090], dtype=int64),\n",
       " 'Train SP': 0.7476942405984981,\n",
       " 'Test SP': 0.7198116043691752,\n",
       " 'Train SN': 0.9385059607192887,\n",
       " 'Test SN': 0.9070951002893923}"
      ]
     },
     "execution_count": 47,
     "metadata": {},
     "output_type": "execute_result"
    }
   ],
   "source": [
    "# Mus Musculus - transfer\n",
    "# [26358, 18642,  3810, 41190] AUC: 0.8178094750617284\n",
    "\n",
    "# Trained and tested on Homo Sapiens\n",
    "ensemble_metrics = pickle.load(open('Results/EnsembleHomo/metrics.pkl', 'rb'))\n",
    "ensemble_metrics = append_metrics(ensemble_metrics)\n",
    "ensemble_metrics"
   ]
  },
  {
   "cell_type": "code",
   "execution_count": 48,
   "id": "nutritional-potter",
   "metadata": {},
   "outputs": [
    {
     "data": {
      "text/plain": [
       "{'Train BCE': 0.4346853758935018,\n",
       " 'Test BCE': 0.5003550632346654,\n",
       " 'Train ACC': 0.7962142857142858,\n",
       " 'Test ACC': 0.75695,\n",
       " 'Train AUC': 0.8703136363280148,\n",
       " 'Test AUC': 0.8242567931086897,\n",
       " 'Train Confusion': array([23112, 11848,  2417, 32623], dtype=int64),\n",
       " 'Test Confusion': array([6269, 3771, 1090, 8870], dtype=int64),\n",
       " 'Train SP': 0.6610983981693364,\n",
       " 'Test SP': 0.624402390438247,\n",
       " 'Train SN': 0.9310216894977169,\n",
       " 'Test SN': 0.8905622489959839}"
      ]
     },
     "execution_count": 48,
     "metadata": {},
     "output_type": "execute_result"
    }
   ],
   "source": [
    "# Trained and tested on Mus Musculus\n",
    "ensemble_metrics = pickle.load(open('Results/EnsembleMus/metrics.pkl', 'rb'))\n",
    "ensemble_metrics = append_metrics(ensemble_metrics)\n",
    "ensemble_metrics"
   ]
  },
  {
   "cell_type": "code",
   "execution_count": 49,
   "id": "logical-induction",
   "metadata": {},
   "outputs": [
    {
     "data": {
      "text/plain": [
       "{'Train BCE': 0.35627041404467935,\n",
       " 'Test BCE': 0.39986244894211703,\n",
       " 'Train ACC': 0.8419928571428571,\n",
       " 'Test ACC': 0.8245,\n",
       " 'Train AUC': 0.9168122901978034,\n",
       " 'Test AUC': 0.8863075736163997,\n",
       " 'Train Confusion': array([51125, 18856,  3265, 66754], dtype=int64),\n",
       " 'Test Confusion': array([7412, 2567,  943, 9078], dtype=int64),\n",
       " 'Train SP': 0.7305554364756148,\n",
       " 'Test SP': 0.7427597955706985,\n",
       " 'Train SN': 0.9533697996258158,\n",
       " 'Test SN': 0.9058976150084822}"
      ]
     },
     "execution_count": 49,
     "metadata": {},
     "output_type": "execute_result"
    }
   ],
   "source": [
    "# Trained on both and tested on Homo Sapiens\n",
    "ensemble_metrics = pickle.load(open('Results/EnsembleBoth/metrics_homo.pkl', 'rb'))\n",
    "ensemble_metrics = append_metrics(ensemble_metrics)\n",
    "ensemble_metrics"
   ]
  },
  {
   "cell_type": "code",
   "execution_count": 50,
   "id": "approximate-boston",
   "metadata": {},
   "outputs": [
    {
     "data": {
      "text/plain": [
       "{'Train BCE': 0.3562704136773312,\n",
       " 'Test BCE': 0.4815836915348948,\n",
       " 'Train ACC': 0.8419928571428571,\n",
       " 'Test ACC': 0.772,\n",
       " 'Train AUC': 0.9168122906059667,\n",
       " 'Test AUC': 0.8405173382774125,\n",
       " 'Train Confusion': array([51125, 18856,  3265, 66754], dtype=int64),\n",
       " 'Test Confusion': array([6318, 3722,  838, 9122], dtype=int64),\n",
       " 'Train SP': 0.7305554364756148,\n",
       " 'Test SP': 0.6292828685258964,\n",
       " 'Train SN': 0.9533697996258158,\n",
       " 'Test SN': 0.915863453815261}"
      ]
     },
     "execution_count": 50,
     "metadata": {},
     "output_type": "execute_result"
    }
   ],
   "source": [
    "# Trained on both and tested on Mus Musculus\n",
    "ensemble_metrics = pickle.load(open('Results/EnsembleBoth/metrics_mus.pkl', 'rb'))\n",
    "ensemble_metrics = append_metrics(ensemble_metrics)\n",
    "ensemble_metrics"
   ]
  },
  {
   "cell_type": "markdown",
   "id": "coordinate-colony",
   "metadata": {},
   "source": [
    "## Sample Efficiency"
   ]
  },
  {
   "cell_type": "code",
   "execution_count": 51,
   "id": "alternative-transfer",
   "metadata": {},
   "outputs": [
    {
     "data": {
      "image/png": "[encoded data removed]",
      "text/plain": [
       "<Figure size 432x288 with 1 Axes>"
      ]
     },
     "metadata": {},
     "output_type": "display_data"
    }
   ],
   "source": [
    "from matplotlib.ticker import ScalarFormatter\n",
    "\n",
    "r_avg = pickle.load(open('Results/SampleEfficiency/gru_avg.pkl', 'rb'))\n",
    "r_ensemble = pickle.load(open('Results/SampleEfficiency/ensemble.pkl', 'rb'))\n",
    "\n",
    "f, ax = plt.subplots()\n",
    "ax.plot(r_ensemble['n_samples'], r_ensemble['Test ACC'], marker='o', label='ensemble')\n",
    "ax.plot(r_avg['n_samples'], r_avg['Test ACC'], marker='o', label='single')\n",
    "plt.legend()\n",
    "plt.xscale('log')\n",
    "plt.xlabel('number of samples')\n",
    "plt.ylabel('accuracy')\n",
    "plt.xticks(r_avg['n_samples'])\n",
    "ax.xaxis.set_major_formatter(ScalarFormatter())\n",
    "# plt.savefig('Plots/detectability_sample_efficiency.jpg', dpi=300, bbox_inches='tight')"
   ]
  },
  {
   "cell_type": "markdown",
   "id": "formed-bargain",
   "metadata": {},
   "source": [
    "## AUC Plot\n"
   ]
  },
  {
   "cell_type": "code",
   "execution_count": 15,
   "id": "logical-superintendent",
   "metadata": {},
   "outputs": [],
   "source": [
    "params = {\n",
    "    'batch_size': 132,\n",
    "    'dropout': 0.449853682405601,\n",
    "    'lr': 0.00048433947922833076,\n",
    "    'num_layers': 3,\n",
    "    'output_dim': 140,\n",
    "    'weight_decay': 2.9229430030464116e-05\n",
    "}\n",
    "\n",
    "path = 'https://raw.githubusercontent.com/WLYLab/PepFormer/main/dataset/'\n",
    "df = pd.read_csv(path+'Homo_sapiens.csv', header=None).iloc[70000:]\n",
    "df.columns = ['peptide', 'detectability']\n",
    "x, y = df[['peptide', 'detectability']].values.T\n",
    "\n",
    "df2 = pd.read_csv(path+'Mus_musculus.csv', header=None).iloc[70000:]\n",
    "df2.columns = ['peptide', 'detectability']\n",
    "x2, y2 = df[['peptide', 'detectability']].values.T"
   ]
  },
  {
   "cell_type": "code",
   "execution_count": 16,
   "id": "following-canon",
   "metadata": {},
   "outputs": [],
   "source": [
    "def get_gru(path,\n",
    "            output_dim, num_layers, dropout,\n",
    "            batch_size, lr, weight_decay):\n",
    "\n",
    "    net = nn.Sequential(\n",
    "        RecurrentEncoder(\n",
    "            input_dim=len(aminoacids)+2,\n",
    "            embedding_dim=output_dim//2,\n",
    "            output_dim=output_dim,\n",
    "            bidirectional=True,\n",
    "            rnn_type='gru',\n",
    "            pool_type='avg',\n",
    "            num_layers=num_layers, \n",
    "            dropout=dropout,\n",
    "        ),\n",
    "        nn.Dropout(dropout),\n",
    "        nn.Linear(output_dim, 1),\n",
    "        nn.Sigmoid()\n",
    "    ).to(device)\n",
    "        \n",
    "    gru = Network(\n",
    "        net=net,\n",
    "        optimizer=torch.optim.AdamW(net.parameters(), lr=lr,\n",
    "                                    weight_decay=weight_decay),\n",
    "        loss=nn.BCELoss(),\n",
    "        gamma=0.97,\n",
    "        path='model.pth'\n",
    "    )\n",
    "    gru.load(path+'model.pth', device)\n",
    "    return gru\n",
    "\n",
    "def get_ensemble(path,\n",
    "                 output_dim, num_layers, dropout,\n",
    "                 batch_size, lr, weight_decay):\n",
    "    nets = []\n",
    "    for rnn_type in ['gru', 'lstm']:\n",
    "        for pool_type in ['avg', 'max', 'last']:\n",
    "            nets.append(\n",
    "                nn.Sequential(\n",
    "                    RecurrentEncoder(\n",
    "                        input_dim=len(aminoacids)+2,\n",
    "                        embedding_dim=output_dim//2,\n",
    "                        output_dim=output_dim,\n",
    "                        bidirectional=True,\n",
    "                        rnn_type=rnn_type,\n",
    "                        pool_type=pool_type,\n",
    "                        num_layers=num_layers, \n",
    "                        dropout=dropout,\n",
    "                    ),\n",
    "                    nn.Dropout(dropout),\n",
    "                    nn.Linear(output_dim, 1),\n",
    "                    nn.Sigmoid()\n",
    "                ).to(device)\n",
    "            )\n",
    "    \n",
    "    models = []\n",
    "    for i, net in enumerate(nets):\n",
    "        models.append(\n",
    "            Network(\n",
    "                net=net,\n",
    "                optimizer=torch.optim.AdamW(net.parameters(), lr=lr,\n",
    "                                            weight_decay=weight_decay),\n",
    "                loss=nn.BCELoss(),\n",
    "                gamma=0.97,\n",
    "                path=f'model{i}.pth'\n",
    "            )\n",
    "        )\n",
    "        \n",
    "    ensemble = VotingEnsemble(models)\n",
    "    for i, model in enumerate(ensemble.models):\n",
    "        model.load(path+f'model{i}.pth', device)\n",
    "    \n",
    "    return ensemble"
   ]
  },
  {
   "cell_type": "code",
   "execution_count": 17,
   "id": "single-identity",
   "metadata": {},
   "outputs": [],
   "source": [
    "gru_homo = get_gru('Results/GRUHomo/', **params)\n",
    "gru_mus = get_gru('Results/GRUMus/', **params)\n",
    "gru_both = get_gru('Results/GRUBoth/', **params)\n",
    "\n",
    "ensemble_homo = get_ensemble('Results/EnsembleHomo/', **params)\n",
    "ensemble_mus = get_ensemble('Results/EnsembleMus/', **params)\n",
    "ensemble_both = get_ensemble('Results/EnsembleBoth/', **params)\n",
    "\n",
    "loader_homo = DataLoader(\n",
    "    dataset=PeptideDataset(x, y, aminoacids),\n",
    "    shuffle=False,\n",
    "    batch_size=1024,\n",
    "    collate_fn=Collate()\n",
    ")\n",
    "\n",
    "loader_mus = DataLoader(\n",
    "    dataset=PeptideDataset(x2, y2, aminoacids),\n",
    "    shuffle=False,\n",
    "    batch_size=1024,\n",
    "    collate_fn=Collate()\n",
    ")"
   ]
  },
  {
   "cell_type": "code",
   "execution_count": 18,
   "id": "acoustic-cliff",
   "metadata": {},
   "outputs": [],
   "source": [
    "def get_roc(model, loader):\n",
    "    preds, targets = model.predict_from_loader(loader, to_numpy=True)\n",
    "    fpr, tpr, _ = roc_curve(targets, preds)\n",
    "    return fpr, tpr\n",
    "\n",
    "rates_homo = {}\n",
    "rates_homo['gru'] = get_roc(gru_homo, loader_homo)\n",
    "rates_homo['gru_both'] = get_roc(gru_both, loader_homo)\n",
    "rates_homo['ensemble'] = get_roc(ensemble_homo, loader_homo)\n",
    "rates_homo['ensemble_both'] = get_roc(ensemble_both, loader_homo)\n",
    "\n",
    "rates_mus = {}\n",
    "rates_mus['gru'] = get_roc(gru_mus, loader_mus)\n",
    "rates_mus['gru_both'] = get_roc(gru_both, loader_mus)\n",
    "rates_mus['ensemble'] = get_roc(ensemble_mus, loader_mus)\n",
    "rates_mus['ensemble_both'] = get_roc(ensemble_both, loader_mus)"
   ]
  },
  {
   "cell_type": "code",
   "execution_count": 19,
   "id": "marine-costume",
   "metadata": {},
   "outputs": [
    {
     "data": {
      "image/png": "[encoded data removed]",
      "text/plain": [
       "<Figure size 864x360 with 2 Axes>"
      ]
     },
     "metadata": {},
     "output_type": "display_data"
    }
   ],
   "source": [
    "f, axes = plt.subplots(1, 2, figsize=(12, 5))\n",
    "\n",
    "rates = (rates_homo, rates_mus)\n",
    "titles = ('Homo Sapiens', 'Mus Musculus')\n",
    "aucs = [\n",
    "    [0.886, 0.874, 0.874, 0.865],\n",
    "    [0.841, 0.826, 0.824, 0.816],\n",
    "]\n",
    "for ax, rates, title, auc in zip(axes, rates, titles, aucs):\n",
    "    ax.step(*rates['ensemble_both'], label=f'Ensemble Merged (AUC={auc[0]})')\n",
    "    ax.step(*rates['gru_both'], label=f'Single Merged (AUC={auc[1]})')\n",
    "    ax.step(*rates['ensemble'], label=f'Ensemble  (AUC={auc[2]})')\n",
    "    ax.step(*rates['gru'], label=f'Single (AUC={auc[3]})')\n",
    "    ax.plot([0, 1], [0, 1], '--', color='gray')\n",
    "    ax.set_title(title)\n",
    "    ax.set_xlabel('false positive rate')\n",
    "    ax.set_ylabel('true positive rate')\n",
    "    ax.legend()\n",
    "plt.savefig('Plots/detectability_roc.jpg', dpi=300, bbox_inches='tight')"
   ]
  }
 ],
 "metadata": {
  "kernelspec": {
   "display_name": "Python 3",
   "language": "python",
   "name": "python3"
  },
  "language_info": {
   "codemirror_mode": {
    "name": "ipython",
    "version": 3
   },
   "file_extension": ".py",
   "mimetype": "text/x-python",
   "name": "python",
   "nbconvert_exporter": "python",
   "pygments_lexer": "ipython3",
   "version": "3.9.1"
  }
 },
 "nbformat": 4,
 "nbformat_minor": 5
}
